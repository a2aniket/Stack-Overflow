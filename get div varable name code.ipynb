{
 "cells": [
  {
   "cell_type": "code",
   "execution_count": 11,
   "metadata": {},
   "outputs": [
    {
     "name": "stdout",
     "output_type": "stream",
     "text": [
      "Scrpping so: Page: 0\n",
      "([{'title': 'Principal Software Engineer -Python - Contact Center', 'company': 'Delivery Hero SE', 'location': 'Berlin, Germany'}, {'title': 'Senior Software Engineer - Python', 'company': 'YouGov', 'location': 'Warsaw, Poland'}, {'title': 'Python Developer', 'company': 'YouGov', 'location': 'Bengaluru, India'}, {'title': 'Python Developer', 'company': 'GeekyWorks', 'location': 'Pune, India'}, {'title': 'Python Developers', 'company': 'JB Solutions', 'location': ''}, {'title': 'Full Stack (Python/React) Software engineer', 'company': 'JPMorgan Chase Bank, N.A.', 'location': 'New York, NY'}, {'title': 'Mid-Level Backend Software Engineer (Python / Django)', 'company': 'Tivix, Inc.', 'location': 'Wrocław, Poland'}, {'title': 'Back-End Developer (Python/Django)', 'company': 'Apacio Ltd', 'location': 'Theale, UK'}, {'title': 'Python Software Developer', 'company': 'Old Mission Capital, LLC', 'location': 'Chicago, IL'}, {'title': 'Python Developer/Bangalore', 'company': 'Talent Zone Consultants', 'location': 'Bengaluru, India'}, {'title': 'Senior Python Engineer', 'company': 'Tivix', 'location': 'Wrocław, Poland'}, {'title': '(Senior) Full-Stack Software Engineer who loves Python', 'company': 'Advertima', 'location': 'Berlin, Germany'}, {'title': 'Python Developer', 'company': 'Nesh Technologies', 'location': 'Chennai, India'}, {'title': 'Python Backend Developer / Data Engineer for Geo Applications', 'company': 'GAF AG', 'location': 'Neustrelitz, Deutschland'}, {'title': 'senior python developer', 'company': 'HaysviaHays plc', 'location': 'via'}, {'title': 'Python Developer', 'company': 'Tech Mahindra Limited', 'location': 'Hyderabad, India'}, {'title': 'Python Developer', 'company': 'Spiria Digital', 'location': 'Gatineau, QC, Canada'}, {'title': 'Python Developer', 'company': 'Quarec Resources', 'location': 'Ahmedabad, India'}, {'title': 'Webentwickler*in Python/Django (m/w/d)', 'company': 'Jonas und der Wolf GmbH', 'location': 'Berlin, Deutschland'}, {'title': 'Sr. Python Software Engineer', 'company': 'Global Reach Consulting LLC', 'location': 'Reston, VA'}, {'title': 'Python Full Stack Developer', 'company': 'REPAY', 'location': 'Tempe, AZ'}, {'title': 'Senior Python Engineer', 'company': 'Bulb Energy', 'location': 'London, UK'}, {'title': 'Mid - Senior Python developer', 'company': 'Hays London City CheapsideviaHays plc', 'location': 'via'}, {'title': 'Python Application Developer- London', 'company': 'JPMorgan Chase Bank, N.A.', 'location': 'London, UK'}, {'title': 'Full Stack Developer - Python & Django', 'company': 'LiveHealth', 'location': 'Pune, India'}], [])\n"
     ]
    }
   ],
   "source": [
    "import requests\n",
    "from bs4 import BeautifulSoup\n",
    "\n",
    "URL = f\"https://stackoverflow.com/jobs?q=python&sort%20=i\"\n",
    "\n",
    "def extract_job(html):\n",
    "    title = html.find(\"h2\", {\"class\": \"mb4 fc-black-800 fs-body3\"}).find('a')[\"title\"]\n",
    "    company_row = html.find(\"h3\", {\"class\": \"fc-black-700 fs-body1 mb4\"}).find_all(\"span\", recursuve = False)\n",
    "    try:\n",
    "        company = company_row[0].get_text(strip=True)\n",
    "    except:\n",
    "        company = \"None\"\n",
    "    try:\n",
    "        location = company_row[1].get_text(strip=True).strip(\"\\n\")\n",
    "    except:\n",
    "        location = \"None\"\n",
    "    return {'title': title, 'company': company, 'location': location}\n",
    "\n",
    "def extract_jobs(last_page):\n",
    "    \n",
    "    jobs = []\n",
    "    for page in range(last_page):\n",
    "        print(f\"Scrpping so: Page: {page}\")\n",
    "        result = requests.get(f\"{URL}&pg={page+1}\")\n",
    "        soup = BeautifulSoup(result.text, \"html.parser\")\n",
    "        results = soup.find_all(\"div\", {\"class\": \"grid--cell fl1\"})\n",
    "        for result in results:\n",
    "            job = extract_job(result)\n",
    "            jobs.append(job)\n",
    "    return jobs,id_list\n",
    "\n",
    "print(extract_jobs(1))"
   ]
  },
  {
   "cell_type": "code",
   "execution_count": 78,
   "metadata": {},
   "outputs": [],
   "source": [
    "URL = f\"https://stackoverflow.com/jobs?q=python&sort%20=i\"\n",
    "r=requests.get(URL)\n",
    "html_content=r.content\n",
    "soup=BeautifulSoup(html_content,\"html.parser\")\n",
    "classs=soup.find_all(attrs={'data-jobid':\"value\"})"
   ]
  },
  {
   "cell_type": "code",
   "execution_count": 79,
   "metadata": {},
   "outputs": [
    {
     "data": {
      "text/plain": [
       "[]"
      ]
     },
     "execution_count": 79,
     "metadata": {},
     "output_type": "execute_result"
    }
   ],
   "source": [
    "classs"
   ]
  },
  {
   "cell_type": "raw",
   "metadata": {},
   "source": []
  },
  {
   "cell_type": "code",
   "execution_count": null,
   "metadata": {},
   "outputs": [],
   "source": []
  }
 ],
 "metadata": {
  "kernelspec": {
   "display_name": "Python 3",
   "language": "python",
   "name": "python3"
  },
  "language_info": {
   "codemirror_mode": {
    "name": "ipython",
    "version": 3
   },
   "file_extension": ".py",
   "mimetype": "text/x-python",
   "name": "python",
   "nbconvert_exporter": "python",
   "pygments_lexer": "ipython3",
   "version": "3.7.6"
  }
 },
 "nbformat": 4,
 "nbformat_minor": 4
}
